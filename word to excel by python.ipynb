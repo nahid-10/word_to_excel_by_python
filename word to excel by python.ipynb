{
 "cells": [
  {
   "cell_type": "code",
   "execution_count": 133,
   "id": "30b49913",
   "metadata": {
    "ExecuteTime": {
     "end_time": "2025-09-08T09:50:52.144162Z",
     "start_time": "2025-09-08T09:50:52.133754Z"
    }
   },
   "outputs": [],
   "source": [
    "from docx import document\n",
    "import re\n",
    "import openpyxl\n",
    "from openpyxl.styles import Font, Alignment"
   ]
  },
  {
   "cell_type": "code",
   "execution_count": 134,
   "id": "931a145e",
   "metadata": {
    "ExecuteTime": {
     "end_time": "2025-09-08T09:50:53.229801Z",
     "start_time": "2025-09-08T09:50:53.223467Z"
    }
   },
   "outputs": [],
   "source": [
    "word_file=\"input.docx\"\n",
    "excel_file=\"final_output.xlsx\""
   ]
  },
  {
   "cell_type": "code",
   "execution_count": 135,
   "id": "eef8c06b",
   "metadata": {
    "ExecuteTime": {
     "end_time": "2025-09-08T09:50:53.851104Z",
     "start_time": "2025-09-08T09:50:53.833178Z"
    }
   },
   "outputs": [],
   "source": [
    "doc=Document(word_file)"
   ]
  },
  {
   "cell_type": "code",
   "execution_count": 136,
   "id": "3dff71de",
   "metadata": {
    "ExecuteTime": {
     "end_time": "2025-09-08T09:50:54.361435Z",
     "start_time": "2025-09-08T09:50:54.333597Z"
    }
   },
   "outputs": [],
   "source": [
    "text=\"\\n\".join([para.text for para in doc.paragraphs])"
   ]
  },
  {
   "cell_type": "code",
   "execution_count": 137,
   "id": "104ecb33",
   "metadata": {
    "ExecuteTime": {
     "end_time": "2025-09-08T09:50:54.759265Z",
     "start_time": "2025-09-08T09:50:54.753023Z"
    }
   },
   "outputs": [],
   "source": [
    "chapter=re.findall(r\"\\*(.*?)\\*\",text,re.S)\n",
    "section=re.findall(r\"\\#(.*?)\\#\",text,re.S)\n",
    "hadith=re.findall(r\"\\$(.*?)\\$\",text,re.S)"
   ]
  },
  {
   "cell_type": "code",
   "execution_count": 138,
   "id": "d26b428d",
   "metadata": {
    "ExecuteTime": {
     "end_time": "2025-09-08T09:50:55.113587Z",
     "start_time": "2025-09-08T09:50:55.103182Z"
    }
   },
   "outputs": [],
   "source": [
    "wb=openpyxl.Workbook()"
   ]
  },
  {
   "cell_type": "code",
   "execution_count": 139,
   "id": "db2447f3",
   "metadata": {
    "ExecuteTime": {
     "end_time": "2025-09-08T09:50:55.558565Z",
     "start_time": "2025-09-08T09:50:55.546664Z"
    }
   },
   "outputs": [],
   "source": [
    "chapter_ws=wb.create_sheet(\"chapter\")\n",
    "section_ws=wb.create_sheet(\"section\")\n",
    "hadith_ws=wb.create_sheet(\"hadith\")"
   ]
  },
  {
   "cell_type": "code",
   "execution_count": 140,
   "id": "09236d8c",
   "metadata": {
    "ExecuteTime": {
     "end_time": "2025-09-08T09:50:55.994724Z",
     "start_time": "2025-09-08T09:50:55.987142Z"
    }
   },
   "outputs": [],
   "source": [
    "chapter_ws.append([\"id\",\"name\"])\n",
    "section_ws.append([\"id\",\"name\"])\n",
    "hadith_ws.append([\"id\",\"name\"])"
   ]
  },
  {
   "cell_type": "code",
   "execution_count": 141,
   "id": "33c0bc6a",
   "metadata": {
    "ExecuteTime": {
     "end_time": "2025-09-08T09:50:56.443282Z",
     "start_time": "2025-09-08T09:50:56.433310Z"
    }
   },
   "outputs": [],
   "source": [
    "for ws in[chapter_ws,section_ws,hadith_ws]:\n",
    "    for cell in ws[1]:\n",
    "        cell.font=Font(bold=True)\n",
    "        cell.alignment=Alignment(horizontal=\"center\",vertical=\"center\")\n",
    "        "
   ]
  },
  {
   "cell_type": "code",
   "execution_count": 142,
   "id": "ce0f5c12",
   "metadata": {
    "ExecuteTime": {
     "end_time": "2025-09-08T09:50:56.946800Z",
     "start_time": "2025-09-08T09:50:56.941401Z"
    }
   },
   "outputs": [],
   "source": [
    "for i,ch in enumerate (chapter,start=1):\n",
    "    chapter_ws.append([i,ch.strip()])"
   ]
  },
  {
   "cell_type": "code",
   "execution_count": 143,
   "id": "9ad99916",
   "metadata": {
    "ExecuteTime": {
     "end_time": "2025-09-08T09:50:57.393628Z",
     "start_time": "2025-09-08T09:50:57.383574Z"
    }
   },
   "outputs": [],
   "source": [
    "for i,ch in enumerate (section,start=1):\n",
    "    section_ws.append([i,ch.strip()])"
   ]
  },
  {
   "cell_type": "code",
   "execution_count": 144,
   "id": "251478a0",
   "metadata": {
    "ExecuteTime": {
     "end_time": "2025-09-08T09:50:57.860977Z",
     "start_time": "2025-09-08T09:50:57.848186Z"
    }
   },
   "outputs": [],
   "source": [
    "for i,ch in enumerate (hadith,start=1):\n",
    "    hadith_ws.append([i,ch.strip()])"
   ]
  },
  {
   "cell_type": "code",
   "execution_count": 145,
   "id": "1fe8d520",
   "metadata": {
    "ExecuteTime": {
     "end_time": "2025-09-08T09:50:58.403819Z",
     "start_time": "2025-09-08T09:50:58.312834Z"
    }
   },
   "outputs": [],
   "source": [
    "wb.save(excel_file)"
   ]
  },
  {
   "cell_type": "code",
   "execution_count": null,
   "id": "45213b50",
   "metadata": {},
   "outputs": [],
   "source": []
  }
 ],
 "metadata": {
  "kernelspec": {
   "display_name": "Python 3 (ipykernel)",
   "language": "python",
   "name": "python3"
  },
  "language_info": {
   "codemirror_mode": {
    "name": "ipython",
    "version": 3
   },
   "file_extension": ".py",
   "mimetype": "text/x-python",
   "name": "python",
   "nbconvert_exporter": "python",
   "pygments_lexer": "ipython3",
   "version": "3.11.5"
  },
  "toc": {
   "base_numbering": 1,
   "nav_menu": {},
   "number_sections": true,
   "sideBar": true,
   "skip_h1_title": false,
   "title_cell": "Table of Contents",
   "title_sidebar": "Contents",
   "toc_cell": false,
   "toc_position": {},
   "toc_section_display": true,
   "toc_window_display": false
  },
  "varInspector": {
   "cols": {
    "lenName": 16,
    "lenType": 16,
    "lenVar": 40
   },
   "kernels_config": {
    "python": {
     "delete_cmd_postfix": "",
     "delete_cmd_prefix": "del ",
     "library": "var_list.py",
     "varRefreshCmd": "print(var_dic_list())"
    },
    "r": {
     "delete_cmd_postfix": ") ",
     "delete_cmd_prefix": "rm(",
     "library": "var_list.r",
     "varRefreshCmd": "cat(var_dic_list()) "
    }
   },
   "types_to_exclude": [
    "module",
    "function",
    "builtin_function_or_method",
    "instance",
    "_Feature"
   ],
   "window_display": false
  }
 },
 "nbformat": 4,
 "nbformat_minor": 5
}
